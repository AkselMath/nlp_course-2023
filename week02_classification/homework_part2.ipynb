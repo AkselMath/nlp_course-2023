{
 "cells": [
  {
   "cell_type": "markdown",
   "metadata": {},
   "source": [
    "### Salary prediction, episode II: make it actually work (4 points)\n",
    "\n",
    "Your main task is to use some of the tricks you've learned on the network and analyze if you can improve __validation MAE__. Try __at least 3 options__ from the list below for a passing grade. Write a short report about what you have tried. More ideas = more bonus points. \n",
    "\n",
    "__Please be serious:__ \" plot learning curves in MAE/epoch, compare models based on optimal performance, test one change at a time. You know the drill :)\n",
    "\n",
    "You can use either __pytorch__ or __tensorflow__ or any other framework (e.g. pure __keras__). Feel free to adapt the seminar code for your needs. For tensorflow version, consider `seminar_tf2.ipynb` as a starting point.\n"
   ]
  },
  {
   "cell_type": "code",
   "execution_count": 1,
   "metadata": {},
   "outputs": [],
   "source": [
    "import numpy as np\n",
    "import pandas as pd\n",
    "import matplotlib.pyplot as plt\n",
    "%matplotlib inline"
   ]
  },
  {
   "cell_type": "code",
   "execution_count": 2,
   "metadata": {},
   "outputs": [
    {
     "name": "stdout",
     "output_type": "stream",
     "text": [
      "--2023-09-28 18:39:18--  https://ysda-seminars.s3.eu-central-1.amazonaws.com/Train_rev1.zip\n",
      "Распознаётся ysda-seminars.s3.eu-central-1.amazonaws.com (ysda-seminars.s3.eu-central-1.amazonaws.com)… 52.219.169.110, 52.219.171.18, 3.5.134.169, ...\n",
      "Подключение к ysda-seminars.s3.eu-central-1.amazonaws.com (ysda-seminars.s3.eu-central-1.amazonaws.com)|52.219.169.110|:443... соединение установлено.\n",
      "HTTP-запрос отправлен. Ожидание ответа… 403 Forbidden\n",
      "2023-09-28 18:39:21 ОШИБКА 403: Forbidden.\n",
      "\n"
     ]
    },
    {
     "data": {
      "text/plain": [
       "(244768, 12)"
      ]
     },
     "execution_count": 2,
     "metadata": {},
     "output_type": "execute_result"
    }
   ],
   "source": [
    "!wget https://ysda-seminars.s3.eu-central-1.amazonaws.com/Train_rev1.zip\n",
    "data = pd.read_csv(\"./Train_rev1.zip\", compression='zip', index_col=None)\n",
    "data.shape"
   ]
  },
  {
   "cell_type": "code",
   "execution_count": 3,
   "metadata": {},
   "outputs": [],
   "source": [
    "data['Log1pSalary'] = np.log1p(data['SalaryNormalized']).astype('float32')\n",
    "\n",
    "text_columns = [\"Title\", \"FullDescription\"]\n",
    "categorical_columns = [\"Category\", \"Company\", \"LocationNormalized\", \"ContractType\", \"ContractTime\"]\n",
    "TARGET_COLUMN = \"Log1pSalary\"\n",
    "\n",
    "data[categorical_columns] = data[categorical_columns].fillna('NaN') # cast missing values to string \"NaN\""
   ]
  },
  {
   "cell_type": "code",
   "execution_count": 4,
   "metadata": {},
   "outputs": [],
   "source": [
    "import nltk\n",
    "\n",
    "\n",
    "tokenizer = nltk.tokenize.WordPunctTokenizer()\n",
    "\n",
    "def tokenized(text: str) -> str:\n",
    "    text = str(text)\n",
    "    return \" \".join(tokenizer.tokenize(text)).lower()\n",
    "\n",
    "\n",
    "data[\"Title\"] = data[\"Title\"].apply(tokenized)\n",
    "data[\"FullDescription\"] = data[\"FullDescription\"].apply(tokenized)"
   ]
  },
  {
   "cell_type": "code",
   "execution_count": 5,
   "metadata": {},
   "outputs": [],
   "source": [
    "from collections import Counter\n",
    "token_counts = Counter()\n",
    "\n",
    "# Count how many times does each token occur in both \"Title\" and \"FullDescription\" in total\n",
    "\n",
    "for title in data[\"Title\"].values:\n",
    "    token_counts.update(Counter(title.split()))\n",
    "\n",
    "for description in data[\"FullDescription\"].values:\n",
    "    token_counts.update(Counter(description.split()))"
   ]
  },
  {
   "cell_type": "code",
   "execution_count": 6,
   "metadata": {},
   "outputs": [],
   "source": [
    "min_count = 10\n",
    "\n",
    "# tokens from token_counts keys that had at least min_count occurrences throughout the dataset\n",
    "tokens = sorted(t for t, c in token_counts.items() if c >= min_count)\n",
    "\n",
    "# Add a special tokens for unknown and empty words\n",
    "UNK, PAD = \"UNK\", \"PAD\"\n",
    "tokens = [UNK, PAD] + tokens\n",
    "\n",
    "token_to_id = {tokens[i]: i for i in range(len(tokens))}"
   ]
  },
  {
   "cell_type": "code",
   "execution_count": 7,
   "metadata": {},
   "outputs": [],
   "source": [
    "UNK_IX, PAD_IX = map(token_to_id.get, [UNK, PAD])\n",
    "\n",
    "# тут пришлось сделать длину токенов не меньше 5, так как одномерные свёртки не работали на меньшем количестве\n",
    "\n",
    "def as_matrix(sequences, max_len=None, min_len=5):\n",
    "    \"\"\" Convert a list of tokens into a matrix with padding \"\"\"\n",
    "    if isinstance(sequences[0], str):\n",
    "        sequences = list(map(str.split, sequences))\n",
    "        \n",
    "    max_len = min(max(map(len, sequences)), max_len or float('inf'))\n",
    "    max_len = max(max_len, min_len)\n",
    "    matrix = np.full((len(sequences), max_len), np.int32(PAD_IX))\n",
    "    for i,seq in enumerate(sequences):\n",
    "        row_ix = [token_to_id.get(word, UNK_IX) for word in seq[:max_len]]\n",
    "        matrix[i, :len(row_ix)] = row_ix\n",
    "    \n",
    "    return matrix"
   ]
  },
  {
   "cell_type": "code",
   "execution_count": 8,
   "metadata": {},
   "outputs": [
    {
     "data": {
      "text/html": [
       "<style>#sk-container-id-1 {color: black;}#sk-container-id-1 pre{padding: 0;}#sk-container-id-1 div.sk-toggleable {background-color: white;}#sk-container-id-1 label.sk-toggleable__label {cursor: pointer;display: block;width: 100%;margin-bottom: 0;padding: 0.3em;box-sizing: border-box;text-align: center;}#sk-container-id-1 label.sk-toggleable__label-arrow:before {content: \"▸\";float: left;margin-right: 0.25em;color: #696969;}#sk-container-id-1 label.sk-toggleable__label-arrow:hover:before {color: black;}#sk-container-id-1 div.sk-estimator:hover label.sk-toggleable__label-arrow:before {color: black;}#sk-container-id-1 div.sk-toggleable__content {max-height: 0;max-width: 0;overflow: hidden;text-align: left;background-color: #f0f8ff;}#sk-container-id-1 div.sk-toggleable__content pre {margin: 0.2em;color: black;border-radius: 0.25em;background-color: #f0f8ff;}#sk-container-id-1 input.sk-toggleable__control:checked~div.sk-toggleable__content {max-height: 200px;max-width: 100%;overflow: auto;}#sk-container-id-1 input.sk-toggleable__control:checked~label.sk-toggleable__label-arrow:before {content: \"▾\";}#sk-container-id-1 div.sk-estimator input.sk-toggleable__control:checked~label.sk-toggleable__label {background-color: #d4ebff;}#sk-container-id-1 div.sk-label input.sk-toggleable__control:checked~label.sk-toggleable__label {background-color: #d4ebff;}#sk-container-id-1 input.sk-hidden--visually {border: 0;clip: rect(1px 1px 1px 1px);clip: rect(1px, 1px, 1px, 1px);height: 1px;margin: -1px;overflow: hidden;padding: 0;position: absolute;width: 1px;}#sk-container-id-1 div.sk-estimator {font-family: monospace;background-color: #f0f8ff;border: 1px dotted black;border-radius: 0.25em;box-sizing: border-box;margin-bottom: 0.5em;}#sk-container-id-1 div.sk-estimator:hover {background-color: #d4ebff;}#sk-container-id-1 div.sk-parallel-item::after {content: \"\";width: 100%;border-bottom: 1px solid gray;flex-grow: 1;}#sk-container-id-1 div.sk-label:hover label.sk-toggleable__label {background-color: #d4ebff;}#sk-container-id-1 div.sk-serial::before {content: \"\";position: absolute;border-left: 1px solid gray;box-sizing: border-box;top: 0;bottom: 0;left: 50%;z-index: 0;}#sk-container-id-1 div.sk-serial {display: flex;flex-direction: column;align-items: center;background-color: white;padding-right: 0.2em;padding-left: 0.2em;position: relative;}#sk-container-id-1 div.sk-item {position: relative;z-index: 1;}#sk-container-id-1 div.sk-parallel {display: flex;align-items: stretch;justify-content: center;background-color: white;position: relative;}#sk-container-id-1 div.sk-item::before, #sk-container-id-1 div.sk-parallel-item::before {content: \"\";position: absolute;border-left: 1px solid gray;box-sizing: border-box;top: 0;bottom: 0;left: 50%;z-index: -1;}#sk-container-id-1 div.sk-parallel-item {display: flex;flex-direction: column;z-index: 1;position: relative;background-color: white;}#sk-container-id-1 div.sk-parallel-item:first-child::after {align-self: flex-end;width: 50%;}#sk-container-id-1 div.sk-parallel-item:last-child::after {align-self: flex-start;width: 50%;}#sk-container-id-1 div.sk-parallel-item:only-child::after {width: 0;}#sk-container-id-1 div.sk-dashed-wrapped {border: 1px dashed gray;margin: 0 0.4em 0.5em 0.4em;box-sizing: border-box;padding-bottom: 0.4em;background-color: white;}#sk-container-id-1 div.sk-label label {font-family: monospace;font-weight: bold;display: inline-block;line-height: 1.2em;}#sk-container-id-1 div.sk-label-container {text-align: center;}#sk-container-id-1 div.sk-container {/* jupyter's `normalize.less` sets `[hidden] { display: none; }` but bootstrap.min.css set `[hidden] { display: none !important; }` so we also need the `!important` here to be able to override the default hidden behavior on the sphinx rendered scikit-learn.org. See: https://github.com/scikit-learn/scikit-learn/issues/21755 */display: inline-block !important;position: relative;}#sk-container-id-1 div.sk-text-repr-fallback {display: none;}</style><div id=\"sk-container-id-1\" class=\"sk-top-container\"><div class=\"sk-text-repr-fallback\"><pre>DictVectorizer(dtype=&lt;class &#x27;numpy.float32&#x27;&gt;, sparse=False)</pre><b>In a Jupyter environment, please rerun this cell to show the HTML representation or trust the notebook. <br />On GitHub, the HTML representation is unable to render, please try loading this page with nbviewer.org.</b></div><div class=\"sk-container\" hidden><div class=\"sk-item\"><div class=\"sk-estimator sk-toggleable\"><input class=\"sk-toggleable__control sk-hidden--visually\" id=\"sk-estimator-id-1\" type=\"checkbox\" checked><label for=\"sk-estimator-id-1\" class=\"sk-toggleable__label sk-toggleable__label-arrow\">DictVectorizer</label><div class=\"sk-toggleable__content\"><pre>DictVectorizer(dtype=&lt;class &#x27;numpy.float32&#x27;&gt;, sparse=False)</pre></div></div></div></div></div>"
      ],
      "text/plain": [
       "DictVectorizer(dtype=<class 'numpy.float32'>, sparse=False)"
      ]
     },
     "execution_count": 8,
     "metadata": {},
     "output_type": "execute_result"
    }
   ],
   "source": [
    "from sklearn.feature_extraction import DictVectorizer\n",
    "\n",
    "# we only consider top-1k most frequent companies to minimize memory usage\n",
    "top_companies, top_counts = zip(*Counter(data['Company']).most_common(1000))\n",
    "recognized_companies = set(top_companies)\n",
    "data[\"Company\"] = data[\"Company\"].apply(lambda comp: comp if comp in recognized_companies else \"Other\")\n",
    "\n",
    "categorical_vectorizer = DictVectorizer(dtype=np.float32, sparse=False)\n",
    "categorical_vectorizer.fit(data[categorical_columns].apply(dict, axis=1))"
   ]
  },
  {
   "cell_type": "code",
   "execution_count": 9,
   "metadata": {},
   "outputs": [
    {
     "name": "stdout",
     "output_type": "stream",
     "text": [
      "Train size =  195814\n",
      "Validation size =  48954\n"
     ]
    }
   ],
   "source": [
    "from sklearn.model_selection import train_test_split\n",
    "\n",
    "data_train, data_val = train_test_split(data, test_size=0.2, random_state=42)\n",
    "data_train.index = range(len(data_train))\n",
    "data_val.index = range(len(data_val))\n",
    "\n",
    "print(\"Train size = \", len(data_train))\n",
    "print(\"Validation size = \", len(data_val))"
   ]
  },
  {
   "cell_type": "code",
   "execution_count": 10,
   "metadata": {},
   "outputs": [],
   "source": [
    "import torch\n",
    "import torch.nn as nn\n",
    "import torch.functional as F\n",
    "\n",
    "\n",
    "device = 'cuda' if torch.cuda.is_available() else 'cpu'\n",
    "\n",
    "\n",
    "def to_tensors(batch, device):\n",
    "    batch_tensors = dict()\n",
    "    for key, arr in batch.items():\n",
    "        if key in [\"FullDescription\", \"Title\"]:\n",
    "            batch_tensors[key] = torch.tensor(arr, device=device, dtype=torch.int64)\n",
    "        else:\n",
    "            batch_tensors[key] = torch.tensor(arr, device=device)\n",
    "    return batch_tensors\n",
    "\n",
    "\n",
    "def make_batch(data, max_len=None, word_dropout=0, device=device):\n",
    "    \"\"\"\n",
    "    Creates a keras-friendly dict from the batch data.\n",
    "    :param word_dropout: replaces token index with UNK_IX with this probability\n",
    "    :returns: a dict with {'title' : int64[batch, title_max_len]\n",
    "    \"\"\"\n",
    "    batch = {}\n",
    "    batch[\"Title\"] = as_matrix(data[\"Title\"].values, max_len)\n",
    "    batch[\"FullDescription\"] = as_matrix(data[\"FullDescription\"].values, max_len)\n",
    "    batch['Categorical'] = categorical_vectorizer.transform(data[categorical_columns].apply(dict, axis=1))\n",
    "    \n",
    "    if word_dropout != 0:\n",
    "        batch[\"FullDescription\"] = apply_word_dropout(batch[\"FullDescription\"], 1. - word_dropout)\n",
    "    \n",
    "    if TARGET_COLUMN in data.columns:\n",
    "        batch[TARGET_COLUMN] = data[TARGET_COLUMN].values\n",
    "    \n",
    "    return to_tensors(batch, device)\n",
    "\n",
    "def apply_word_dropout(matrix, keep_prop, replace_with=UNK_IX, pad_ix=PAD_IX,):\n",
    "    dropout_mask = np.random.choice(2, np.shape(matrix), p=[keep_prop, 1 - keep_prop])\n",
    "    dropout_mask &= matrix != pad_ix\n",
    "    return np.choose(dropout_mask, [matrix, np.full_like(matrix, replace_with)])"
   ]
  },
  {
   "cell_type": "code",
   "execution_count": 11,
   "metadata": {},
   "outputs": [],
   "source": [
    "import gensim.downloader as api\n",
    "glove_embedding = api.load('glove-twitter-100')"
   ]
  },
  {
   "cell_type": "code",
   "execution_count": 12,
   "metadata": {},
   "outputs": [],
   "source": [
    "emb = nn.Embedding(len(tokens), 100)\n",
    "emb.weight.requires_grad=False\n",
    "new_emb = torch.zeros(len(tokens), 100)\n",
    "\n",
    "for word, index in token_to_id.items():\n",
    "    if word in glove_embedding:\n",
    "        new_emb[index] = torch.tensor(glove_embedding.get_vector(word))\n",
    "    else:\n",
    "        new_emb[index] = emb.weight[index]"
   ]
  },
  {
   "cell_type": "code",
   "execution_count": 80,
   "metadata": {},
   "outputs": [],
   "source": [
    "class TitleEncoder(nn.Module):\n",
    "    def __init__(self, input_size, hidden_size, num_layers, n_tokens, embedding=None):\n",
    "        super().__init__()\n",
    "        \n",
    "        if embedding == None:\n",
    "            filter = 200\n",
    "            self.emb = nn.Embedding(n_tokens, 200)\n",
    "        else:     \n",
    "            filter = 100\n",
    "            self.emb = nn.Embedding.from_pretrained(embedding)\n",
    "            self.emb.weight.requires_grad=True\n",
    "\n",
    "        self.lstm = nn.LSTM(input_size=input_size, hidden_size=hidden_size, num_layers=num_layers, bidirectional=True)\n",
    "    \n",
    "    def forward(self, idx):\n",
    "        embs = self.emb(idx)\n",
    "        out_lstm, (h_n, c_n) = self.lstm(embs)\n",
    "        \n",
    "        average_pool = torch.mean(out_lstm, dim=1)\n",
    "        return average_pool\n",
    "\n",
    "\n",
    "class CategorialEncoder(nn.Module):\n",
    "    def __init__(self, n_cat_features):\n",
    "        super().__init__()\n",
    "        \n",
    "        self.sequential = nn.Sequential(\n",
    "            nn.Linear(n_cat_features, 128),\n",
    "            nn.BatchNorm1d(128),\n",
    "            nn.ReLU(),\n",
    "            nn.Linear(128, 64),\n",
    "            nn.BatchNorm1d(64),\n",
    "            nn.ReLU(),\n",
    "            nn.Linear(64, 32)\n",
    "        )\n",
    "        \n",
    "    def forward(self, batch):\n",
    "        out = self.sequential(batch)        \n",
    "        return out\n",
    "\n",
    "\n",
    "class SalaryPredictor(nn.Module):\n",
    "    def __init__(self, input_size, hidden_size, num_layers, embedding=None, n_tokens=len(tokens), n_cat_features=len(categorical_vectorizer.vocabulary_)):\n",
    "        super().__init__()\n",
    "        self.title_enc = TitleEncoder(input_size, hidden_size, num_layers, n_tokens, embedding)\n",
    "        self.descr_enc = TitleEncoder(input_size, hidden_size, num_layers, n_tokens, embedding)\n",
    "        self.categorial_enc = CategorialEncoder(n_cat_features)\n",
    "\n",
    "        self.title_enc.emb == self.descr_enc.emb\n",
    "            \n",
    "        self.sequential =  nn.Sequential(\n",
    "            nn.Linear(160, 32),\n",
    "            nn.BatchNorm1d(32),\n",
    "            nn.ReLU(),\n",
    "            nn.Linear(32, 1),\n",
    "        )\n",
    "    \n",
    "    def forward(self, batch):\n",
    "        title_out = self.title_enc(batch['Title'])\n",
    "        descr_out = self.descr_enc(batch['FullDescription'])\n",
    "        cat_out = self.categorial_enc(batch['Categorical'])\n",
    "        \n",
    "        concat = torch.cat((title_out, descr_out, cat_out), 1)\n",
    "        out = self.sequential(concat)\n",
    "        \n",
    "        return torch.transpose(out, 0, 1)[0]"
   ]
  },
  {
   "cell_type": "code",
   "execution_count": 81,
   "metadata": {},
   "outputs": [],
   "source": [
    "def iterate_minibatches(data, batch_size=256, shuffle=True, cycle=False, device=device, **kwargs):\n",
    "    \"\"\" iterates minibatches of data in random order \"\"\"\n",
    "    while True:\n",
    "        indices = np.arange(len(data))\n",
    "        if shuffle:\n",
    "            indices = np.random.permutation(indices)\n",
    "\n",
    "        for start in range(0, len(indices), batch_size):\n",
    "            batch = make_batch(data.iloc[indices[start : start + batch_size]], device=device, **kwargs)\n",
    "            yield batch\n",
    "        \n",
    "        if not cycle: break"
   ]
  },
  {
   "cell_type": "code",
   "execution_count": 82,
   "metadata": {},
   "outputs": [],
   "source": [
    "from tqdm.auto import tqdm\n",
    "\n",
    "BATCH_SIZE = 16\n",
    "EPOCHS = 5\n",
    "\n",
    "\n",
    "def print_metrics(model, data, batch_size=BATCH_SIZE, name=\"\", device=torch.device('cpu'), **kw):\n",
    "    squared_error = abs_error = num_samples = 0.0\n",
    "    model.eval()\n",
    "    with torch.no_grad():\n",
    "        for batch in iterate_minibatches(data, batch_size=batch_size, shuffle=False, device=device, **kw):\n",
    "            batch_pred = model(batch)\n",
    "            squared_error += torch.sum(torch.square(batch_pred - batch[TARGET_COLUMN]))\n",
    "            abs_error += torch.sum(torch.abs(batch_pred - batch[TARGET_COLUMN]))\n",
    "            num_samples += len(batch_pred)\n",
    "    mse = squared_error.detach().cpu().numpy() / num_samples\n",
    "    mae = abs_error.detach().cpu().numpy() / num_samples\n",
    "    print(\"%s results:\" % (name or \"\"))\n",
    "    print(\"Mean square error: %.5f\" % mse)\n",
    "    print(\"Mean absolute error: %.5f\" % mae)\n",
    "    return mse, mae"
   ]
  },
  {
   "cell_type": "code",
   "execution_count": 83,
   "metadata": {},
   "outputs": [
    {
     "name": "stdout",
     "output_type": "stream",
     "text": [
      "epoch: 0\n"
     ]
    },
    {
     "data": {
      "application/vnd.jupyter.widget-view+json": {
       "model_id": "8ef175d69e2e4a20b9ab3d9dd9264ecb",
       "version_major": 2,
       "version_minor": 0
      },
      "text/plain": [
       "  0%|          | 0/6119 [00:00<?, ?it/s]"
      ]
     },
     "metadata": {},
     "output_type": "display_data"
    },
    {
     "name": "stdout",
     "output_type": "stream",
     "text": [
      " results:\n",
      "Mean square error: 0.13017\n",
      "Mean absolute error: 0.27585\n",
      "loss: 738.0692\n",
      "epoch: 1\n"
     ]
    },
    {
     "data": {
      "application/vnd.jupyter.widget-view+json": {
       "model_id": "ad40f86d2a1c45f2ab024a673145956d",
       "version_major": 2,
       "version_minor": 0
      },
      "text/plain": [
       "  0%|          | 0/6119 [00:00<?, ?it/s]"
      ]
     },
     "metadata": {},
     "output_type": "display_data"
    },
    {
     "name": "stdout",
     "output_type": "stream",
     "text": [
      " results:\n",
      "Mean square error: 0.13229\n",
      "Mean absolute error: 0.28211\n",
      "loss: 4.2303\n",
      "epoch: 2\n"
     ]
    },
    {
     "data": {
      "application/vnd.jupyter.widget-view+json": {
       "model_id": "2dd040ec4cef4a53a0590ce3faee2daf",
       "version_major": 2,
       "version_minor": 0
      },
      "text/plain": [
       "  0%|          | 0/6119 [00:00<?, ?it/s]"
      ]
     },
     "metadata": {},
     "output_type": "display_data"
    },
    {
     "name": "stdout",
     "output_type": "stream",
     "text": [
      " results:\n",
      "Mean square error: 0.15399\n",
      "Mean absolute error: 0.31749\n",
      "loss: 3.2166\n",
      "epoch: 3\n"
     ]
    },
    {
     "data": {
      "application/vnd.jupyter.widget-view+json": {
       "model_id": "2f6d2fc2feeb4c0ead34831861432280",
       "version_major": 2,
       "version_minor": 0
      },
      "text/plain": [
       "  0%|          | 0/6119 [00:00<?, ?it/s]"
      ]
     },
     "metadata": {},
     "output_type": "display_data"
    },
    {
     "name": "stdout",
     "output_type": "stream",
     "text": [
      " results:\n",
      "Mean square error: 0.13067\n",
      "Mean absolute error: 0.28788\n",
      "loss: 2.8318\n",
      "epoch: 4\n"
     ]
    },
    {
     "data": {
      "application/vnd.jupyter.widget-view+json": {
       "model_id": "3dae1a0ea979416e88d3d00a60723061",
       "version_major": 2,
       "version_minor": 0
      },
      "text/plain": [
       "  0%|          | 0/6119 [00:00<?, ?it/s]"
      ]
     },
     "metadata": {},
     "output_type": "display_data"
    },
    {
     "name": "stdout",
     "output_type": "stream",
     "text": [
      " results:\n",
      "Mean square error: 0.09265\n",
      "Mean absolute error: 0.23266\n",
      "loss: 2.6333\n",
      "epoch: 5\n"
     ]
    },
    {
     "data": {
      "application/vnd.jupyter.widget-view+json": {
       "model_id": "85781ae1f4b14e729f1ab4a3f689466a",
       "version_major": 2,
       "version_minor": 0
      },
      "text/plain": [
       "  0%|          | 0/6119 [00:00<?, ?it/s]"
      ]
     },
     "metadata": {},
     "output_type": "display_data"
    },
    {
     "name": "stdout",
     "output_type": "stream",
     "text": [
      " results:\n",
      "Mean square error: 0.11256\n",
      "Mean absolute error: 0.26366\n",
      "loss: 2.4986\n",
      "epoch: 6\n"
     ]
    },
    {
     "data": {
      "application/vnd.jupyter.widget-view+json": {
       "model_id": "e51813efebfc4a4ca58bb1adbc7a36c8",
       "version_major": 2,
       "version_minor": 0
      },
      "text/plain": [
       "  0%|          | 0/6119 [00:00<?, ?it/s]"
      ]
     },
     "metadata": {},
     "output_type": "display_data"
    },
    {
     "name": "stdout",
     "output_type": "stream",
     "text": [
      " results:\n",
      "Mean square error: 0.12282\n",
      "Mean absolute error: 0.28039\n",
      "loss: 2.411\n",
      "epoch: 7\n"
     ]
    },
    {
     "data": {
      "application/vnd.jupyter.widget-view+json": {
       "model_id": "62820e93762641b6bae36875a54e0085",
       "version_major": 2,
       "version_minor": 0
      },
      "text/plain": [
       "  0%|          | 0/6119 [00:00<?, ?it/s]"
      ]
     },
     "metadata": {},
     "output_type": "display_data"
    },
    {
     "name": "stdout",
     "output_type": "stream",
     "text": [
      " results:\n",
      "Mean square error: 0.14187\n",
      "Mean absolute error: 0.30914\n",
      "loss: 2.3254\n",
      "epoch: 8\n"
     ]
    },
    {
     "data": {
      "application/vnd.jupyter.widget-view+json": {
       "model_id": "02a19824a06544218001cfdd61cf419f",
       "version_major": 2,
       "version_minor": 0
      },
      "text/plain": [
       "  0%|          | 0/6119 [00:00<?, ?it/s]"
      ]
     },
     "metadata": {},
     "output_type": "display_data"
    },
    {
     "name": "stdout",
     "output_type": "stream",
     "text": [
      " results:\n",
      "Mean square error: 0.16263\n",
      "Mean absolute error: 0.33567\n",
      "loss: 2.2503\n",
      "epoch: 9\n"
     ]
    },
    {
     "data": {
      "application/vnd.jupyter.widget-view+json": {
       "model_id": "3d0f73c00a42457abbe2d92a1ffecb54",
       "version_major": 2,
       "version_minor": 0
      },
      "text/plain": [
       "  0%|          | 0/6119 [00:00<?, ?it/s]"
      ]
     },
     "metadata": {},
     "output_type": "display_data"
    },
    {
     "name": "stdout",
     "output_type": "stream",
     "text": [
      " results:\n",
      "Mean square error: 0.10990\n",
      "Mean absolute error: 0.26356\n",
      "loss: 2.1918\n"
     ]
    }
   ],
   "source": [
    "BATCH_SIZE = 32\n",
    "EPOCHS = 10\n",
    "\n",
    "model = SalaryPredictor(input_size=200, hidden_size=32, num_layers=5).to(device)\n",
    "criterion = nn.MSELoss(reduction='sum')\n",
    "optimizer = torch.optim.Adam(model.parameters(), lr=1e-4)\n",
    "\n",
    "loss_list = []\n",
    "mse_list_val, mae_list_val = [], []\n",
    "\n",
    "for epoch in range(EPOCHS):\n",
    "    print(f\"epoch: {epoch}\")\n",
    "    temp_loss = []\n",
    "    model.train()\n",
    "    for i, batch in tqdm(enumerate(\n",
    "            iterate_minibatches(data_train, batch_size=BATCH_SIZE, device=device)),\n",
    "            total=len(data_train) // BATCH_SIZE\n",
    "        ):\n",
    "        pred = model(batch)\n",
    "        loss = criterion(pred, batch[TARGET_COLUMN])\n",
    "        \n",
    "        temp_loss.append(loss.item())\n",
    "        \n",
    "        optimizer.zero_grad()\n",
    "        loss.backward()\n",
    "        optimizer.step()\n",
    "        \n",
    "    mse_val, mae_val = print_metrics(model, data_val, device=device)\n",
    "    print(f'loss: {round(np.mean(temp_loss), 4)}')\n",
    "    \n",
    "    mse_list_val.append(mse_val)\n",
    "    mae_list_val.append(mae_val)\n",
    "    \n",
    "    loss_list.append(np.mean(temp_loss))"
   ]
  },
  {
   "cell_type": "markdown",
   "metadata": {},
   "source": [
    "### A short report\n",
    "\n",
    "Please tell us what you did and how did it work."
   ]
  },
  {
   "cell_type": "markdown",
   "metadata": {},
   "source": [
    "# Первая модель со случайными эмбедингами и с предобученнымим "
   ]
  },
  {
   "cell_type": "markdown",
   "metadata": {},
   "source": [
    "Первая модель, не большая. C BatchNorm1d и MaxPooling. Я попробовал использовать случайные эмбединги и обучал их тоже. \n",
    "\n",
    "Батч 16, 10 эпох\n",
    "\n",
    "Ниже виден средние mae и mse на обучении и средний loss в конце каждой эпохи"
   ]
  },
  {
   "cell_type": "code",
   "execution_count": 29,
   "metadata": {},
   "outputs": [
    {
     "name": "stdout",
     "output_type": "stream",
     "text": [
      "mse: 0.1513\n",
      "mae: 0.3088\n"
     ]
    }
   ],
   "source": [
    "print(f\"mse: {round(np.mean(mse_list_val), 4)}\")\n",
    "print(f\"mae: {round(np.mean(mae_list_val),4)}\")"
   ]
  },
  {
   "cell_type": "code",
   "execution_count": 27,
   "metadata": {},
   "outputs": [
    {
     "data": {
      "image/png": "[encoded data removed]",
      "text/plain": [
       "<Figure size 640x480 with 1 Axes>"
      ]
     },
     "metadata": {},
     "output_type": "display_data"
    }
   ],
   "source": [
    "plt.title(\"loss for epoch\")\n",
    "plt.xlabel(\"epoch\")\n",
    "plt.plot(loss_list, label=f'loss_mean {round(np.mean(loss_list), 3)}')\n",
    "plt.legend(fontsize='large')\n",
    "plt.grid()"
   ]
  },
  {
   "cell_type": "markdown",
   "metadata": {},
   "source": [
    "Тут та же модель, но с предобученными эмбедингами из glove_embedding = api.load('glove-twitter-100'). \n",
    "\n",
    "Батч 16, 10 эпох\n",
    "\n",
    "Ниже виден средние mae и mse на обучении и средний loss в конце каждой эпохи.\n",
    "\n",
    "Модель стала чуть лучше, но не сильно. loss немного меньше, mse тоже"
   ]
  },
  {
   "cell_type": "code",
   "execution_count": 31,
   "metadata": {},
   "outputs": [
    {
     "name": "stdout",
     "output_type": "stream",
     "text": [
      "mse: 0.1463\n",
      "mae: 0.3105\n"
     ]
    }
   ],
   "source": [
    "print(f\"mse: {round(np.mean(mse_list_val), 4)}\")\n",
    "print(f\"mae: {round(np.mean(mae_list_val),4)}\")"
   ]
  },
  {
   "cell_type": "code",
   "execution_count": 32,
   "metadata": {},
   "outputs": [
    {
     "data": {
      "image/png": "[encoded data removed]",
      "text/plain": [
       "<Figure size 640x480 with 1 Axes>"
      ]
     },
     "metadata": {},
     "output_type": "display_data"
    }
   ],
   "source": [
    "plt.title(\"loss for epoch\")\n",
    "plt.xlabel(\"epoch\")\n",
    "plt.plot(loss_list, label=f'loss_mean {round(np.mean(loss_list), 3)}')\n",
    "plt.legend(fontsize='large')\n",
    "plt.grid()"
   ]
  },
  {
   "cell_type": "markdown",
   "metadata": {},
   "source": [
    "# Вторая модель с двумя головами\n",
    "\n",
    "В модель TitleEncoder я добавил две головы, остальное оставил так же. Эмбединги случайны. Последовательность токенов в Title небольшая, поэтому много свёрток сделать не получится, а вот две головы возможно помогли бы. \n",
    "\n",
    "Батч 16, 10 эпох\n",
    "\n",
    "Судя по mse и mae две головы не помогли"
   ]
  },
  {
   "cell_type": "code",
   "execution_count": 47,
   "metadata": {},
   "outputs": [
    {
     "name": "stdout",
     "output_type": "stream",
     "text": [
      "mse: 0.209\n",
      "mae: 0.377\n"
     ]
    }
   ],
   "source": [
    "print(f\"mse: {round(np.mean(mse_list_val), 4)}\")\n",
    "print(f\"mae: {round(np.mean(mae_list_val),4)}\")"
   ]
  },
  {
   "cell_type": "code",
   "execution_count": 48,
   "metadata": {},
   "outputs": [
    {
     "data": {
      "image/png": "[encoded data removed]",
      "text/plain": [
       "<Figure size 640x480 with 1 Axes>"
      ]
     },
     "metadata": {},
     "output_type": "display_data"
    }
   ],
   "source": [
    "plt.title(\"loss for epoch\")\n",
    "plt.xlabel(\"epoch\")\n",
    "plt.plot(loss_list, label=f'loss_mean {round(np.mean(loss_list), 3)}')\n",
    "plt.legend(fontsize='large')\n",
    "plt.grid()"
   ]
  },
  {
   "cell_type": "markdown",
   "metadata": {},
   "source": [
    "# Третья модель\n",
    "\n",
    "Тут я для Title и для FullDescription сделал одну модель TitleEncoder, у которой две головы. Эмбединги случайные, длины 200.\n",
    "\n",
    "Батч 32, 10 эпох. \n",
    "\n",
    "mse и mae стали меньше. Во время обучения mse падало до 0.09, а вот loss довольно высокий, возможно эту модель надо было ещё дообучить"
   ]
  },
  {
   "cell_type": "code",
   "execution_count": 43,
   "metadata": {},
   "outputs": [
    {
     "name": "stdout",
     "output_type": "stream",
     "text": [
      "mse: 0.1351\n",
      "mae: 0.2858\n"
     ]
    }
   ],
   "source": [
    "print(f\"mse: {round(np.mean(mse_list_val), 4)}\")\n",
    "print(f\"mae: {round(np.mean(mae_list_val), 4)}\")"
   ]
  },
  {
   "cell_type": "code",
   "execution_count": 44,
   "metadata": {},
   "outputs": [
    {
     "data": {
      "image/png": "[encoded data removed]",
      "text/plain": [
       "<Figure size 640x480 with 1 Axes>"
      ]
     },
     "metadata": {},
     "output_type": "display_data"
    }
   ],
   "source": [
    "plt.title(\"loss for epoch\")\n",
    "plt.xlabel(\"epoch\")\n",
    "plt.plot(loss_list, label=f'loss_mean {round(np.mean(loss_list), 3)}')\n",
    "plt.legend(fontsize='large')\n",
    "plt.grid()"
   ]
  },
  {
   "cell_type": "markdown",
   "metadata": {},
   "source": [
    "# Четвёртая модель\n",
    "\n",
    "Тут я взял модели по проще со случайными эмбедингами. Убрал BatchNorm1d.Модель для Title и для FullDescription одинаковы. Эмбединги случайны, длины 200.\n",
    "\n",
    "Батч 32, 10 эпох. ?\n",
    "\n",
    "mse минимальное из всех, loss тоже. Кажется это лучшее что у меня получилось"
   ]
  },
  {
   "cell_type": "code",
   "execution_count": 32,
   "metadata": {},
   "outputs": [
    {
     "name": "stdout",
     "output_type": "stream",
     "text": [
      "mse: 0.0702\n",
      "mae: 0.1964\n"
     ]
    }
   ],
   "source": [
    "print(f\"mse: {round(np.mean(mse_list_val), 4)}\")\n",
    "print(f\"mae: {round(np.mean(mae_list_val),4)}\")"
   ]
  },
  {
   "cell_type": "code",
   "execution_count": 33,
   "metadata": {},
   "outputs": [
    {
     "data": {
      "image/png": "[encoded data removed]",
      "text/plain": [
       "<Figure size 640x480 with 1 Axes>"
      ]
     },
     "metadata": {},
     "output_type": "display_data"
    }
   ],
   "source": [
    "plt.title(\"loss for epoch\")\n",
    "plt.xlabel(\"epoch\")\n",
    "plt.plot(loss_list, label=f'loss_mean {round(np.mean(loss_list), 3)}')\n",
    "plt.legend(fontsize='large')\n",
    "plt.grid()"
   ]
  },
  {
   "cell_type": "markdown",
   "metadata": {},
   "source": [
    "# Пятая модель\n",
    "\n",
    "Тут я попробовал LSTM, довольно тупо и просто. Модель не большая. Модель на основе LSTM для Title и для FullDescription одинаковы. После LSTM стоит max_pooling Эмбединги случайны и тоже учатся.\n",
    "\n",
    "Батч 32, 10 эпох. \n",
    "\n",
    "mse и mae довольно низки, на последних эпохах mse было 0.095. Возможно если ещё пообучать, то можно получить и меньше. "
   ]
  },
  {
   "cell_type": "code",
   "execution_count": 77,
   "metadata": {},
   "outputs": [
    {
     "name": "stdout",
     "output_type": "stream",
     "text": [
      "mse: 0.1155\n",
      "mae: 0.2623\n"
     ]
    }
   ],
   "source": [
    "print(f\"mse: {round(np.mean(mse_list_val), 4)}\")\n",
    "print(f\"mae: {round(np.mean(mae_list_val),4)}\")"
   ]
  },
  {
   "cell_type": "code",
   "execution_count": 78,
   "metadata": {},
   "outputs": [
    {
     "data": {
      "image/png": "[encoded data removed]",
      "text/plain": [
       "<Figure size 640x480 with 1 Axes>"
      ]
     },
     "metadata": {},
     "output_type": "display_data"
    }
   ],
   "source": [
    "plt.title(\"loss for epoch\")\n",
    "plt.xlabel(\"epoch\")\n",
    "plt.plot(loss_list, label=f'loss_mean {round(np.mean(loss_list), 3)}')\n",
    "plt.legend(fontsize='large')\n",
    "plt.grid()"
   ]
  },
  {
   "cell_type": "markdown",
   "metadata": {},
   "source": [
    "# Шестая модель\n",
    "\n",
    "Тут я попробовал ту же модель что и пятая. Единственная разница это после LSTM стоит avg_pooling.\n",
    "\n",
    "Батч 32, 10 эпох. \n",
    "\n",
    "\n",
    "С avg_pooling получилось хуже по метрикам "
   ]
  },
  {
   "cell_type": "code",
   "execution_count": 84,
   "metadata": {},
   "outputs": [
    {
     "name": "stdout",
     "output_type": "stream",
     "text": [
      "mse: 0.129\n",
      "mae: 0.2848\n"
     ]
    }
   ],
   "source": [
    "print(f\"mse: {round(np.mean(mse_list_val), 4)}\")\n",
    "print(f\"mae: {round(np.mean(mae_list_val),4)}\")"
   ]
  },
  {
   "cell_type": "code",
   "execution_count": 85,
   "metadata": {},
   "outputs": [
    {
     "data": {
      "image/png": "[encoded data removed]",
      "text/plain": [
       "<Figure size 640x480 with 1 Axes>"
      ]
     },
     "metadata": {},
     "output_type": "display_data"
    }
   ],
   "source": [
    "plt.title(\"loss for epoch\")\n",
    "plt.xlabel(\"epoch\")\n",
    "plt.plot(loss_list, label=f'loss_mean {round(np.mean(loss_list), 3)}')\n",
    "plt.legend(fontsize='large')\n",
    "plt.grid()"
   ]
  },
  {
   "cell_type": "markdown",
   "metadata": {},
   "source": [
    "## Recommended options\n",
    "\n",
    "#### A) CNN architecture\n",
    "\n",
    "All the tricks you know about dense and convolutional neural networks apply here as well.\n",
    "* Dropout. Nuff said.\n",
    "* Batch Norm. This time it's `nn.BatchNorm*`/`L.BatchNormalization`\n",
    "* Parallel convolution layers. The idea is that you apply several nn.Conv1d to the same embeddings and concatenate output channels.\n",
    "* More layers, more neurons, ya know...\n",
    "\n",
    "\n",
    "#### B) Play with pooling\n",
    "\n",
    "There's more than one way to perform pooling:\n",
    "* Max over time (independently for each feature)\n",
    "* Average over time (excluding PAD)\n",
    "* Softmax-pooling:\n",
    "$$ out_{i, t} = \\sum_t {h_{i,t} \\cdot {{e ^ {h_{i, t}}} \\over \\sum_\\tau e ^ {h_{j, \\tau}} } }$$\n",
    "\n",
    "* Attentive pooling\n",
    "$$ out_{i, t} = \\sum_t {h_{i,t} \\cdot Attn(h_t)}$$\n",
    "\n",
    ", where $$ Attn(h_t) = {{e ^ {NN_{attn}(h_t)}} \\over \\sum_\\tau e ^ {NN_{attn}(h_\\tau)}}  $$\n",
    "and $NN_{attn}$ is a dense layer.\n",
    "\n",
    "The optimal score is usually achieved by concatenating several different poolings, including several attentive pooling with different $NN_{attn}$ (aka multi-headed attention).\n",
    "\n",
    "The catch is that keras layers do not inlude those toys. You will have to [write your own keras layer](https://keras.io/layers/writing-your-own-keras-layers/). Or use pure tensorflow, it might even be easier :)\n",
    "\n",
    "#### C) Fun with words\n",
    "\n",
    "It's not always a good idea to train embeddings from scratch. Here's a few tricks:\n",
    "\n",
    "* Use a pre-trained embeddings from `gensim.downloader.load`. See last lecture.\n",
    "* Start with pre-trained embeddings, then fine-tune them with gradient descent. You may or may not download pre-trained embeddings from [here](http://nlp.stanford.edu/data/glove.6B.zip) and follow this [manual](https://keras.io/examples/nlp/pretrained_word_embeddings/) to initialize your Keras embedding layer with downloaded weights.\n",
    "* Use the same embedding matrix in title and desc vectorizer\n",
    "\n",
    "\n",
    "#### D) Going recurrent\n",
    "\n",
    "We've already learned that recurrent networks can do cool stuff in sequence modelling. Turns out, they're not useless for classification as well. With some tricks of course..\n",
    "\n",
    "* Like convolutional layers, LSTM should be pooled into a fixed-size vector with some of the poolings.\n",
    "* Since you know all the text in advance, use bidirectional RNN\n",
    "  * Run one LSTM from left to right\n",
    "  * Run another in parallel from right to left \n",
    "  * Concatenate their output sequences along unit axis (dim=-1)\n",
    "\n",
    "* It might be good idea to mix convolutions and recurrent layers differently for title and description\n",
    "\n",
    "\n",
    "#### E) Optimizing seriously\n",
    "\n",
    "* You don't necessarily need 100 epochs. Use early stopping. If you've never done this before, take a look at [early stopping callback(keras)](https://keras.io/callbacks/#earlystopping) or in [pytorch(lightning)](https://pytorch-lightning.readthedocs.io/en/latest/common/early_stopping.html).\n",
    "  * In short, train until you notice that validation\n",
    "  * Maintain the best-on-validation snapshot via `model.save(file_name)`\n",
    "  * Plotting learning curves is usually a good idea\n",
    "  \n",
    "Good luck! And may the force be with you!"
   ]
  },
  {
   "cell_type": "markdown",
   "metadata": {},
   "source": [
    "# Модели, которые обучал"
   ]
  },
  {
   "cell_type": "markdown",
   "metadata": {},
   "source": [
    "## Первая модель"
   ]
  },
  {
   "cell_type": "code",
   "execution_count": 22,
   "metadata": {},
   "outputs": [],
   "source": [
    "class TitleEncoder(nn.Module):\n",
    "    def __init__(self, n_tokens, embedding=None):\n",
    "        super().__init__()\n",
    "        \n",
    "        if embedding == None:\n",
    "            self.emb = nn.Embedding(n_tokens, 100)\n",
    "        else:     \n",
    "            self.emb = nn.Embedding.from_pretrained(embedding)\n",
    "            self.emb.weight.requires_grad=True\n",
    "        \n",
    "        self.sequential_1 =  nn.Sequential(\n",
    "            nn.Conv1d(100, 64, kernel_size=3),\n",
    "            nn.ReLU(),\n",
    "            nn.Conv1d(64, 32, kernel_size=3)\n",
    "        )\n",
    "\n",
    "    def forward(self, idx):\n",
    "        embs = self.emb(idx).transpose(2, 1)\n",
    "        \n",
    "        out_1 = self.sequential_1(embs)\n",
    "        max_pool = torch.max(out_1, dim=-1).values\n",
    "        \n",
    "        return max_pool\n",
    "\n",
    "\n",
    "class FullDescriptionEncoder(nn.Module):\n",
    "    def __init__(self, n_tokens, embedding=None):\n",
    "        super().__init__()\n",
    "        if embedding != None:\n",
    "            self.emb = nn.Embedding.from_pretrained(embedding)\n",
    "            self.emb.weight.requires_grad=True\n",
    "        else:\n",
    "            self.emb = nn.Embedding(n_tokens, 100)\n",
    "            \n",
    "        self.sequential =  nn.Sequential(\n",
    "            nn.Conv1d(100, 64, kernel_size=3, stride=2),\n",
    "            nn.MaxPool1d(kernel_size=3, stride=2),\n",
    "            nn.ReLU(),\n",
    "            nn.Conv1d(64, 32, kernel_size=3)\n",
    "        )\n",
    "        \n",
    "    def forward(self, idx):\n",
    "        embs = self.emb(idx).transpose(2, 1)\n",
    "        \n",
    "        sequential_out = self.sequential(embs)        \n",
    "        max_pool = torch.max(sequential_out, dim=-1).values\n",
    "        \n",
    "        return max_pool\n",
    "\n",
    "class CategorialEncoder(nn.Module):\n",
    "    def __init__(self, n_cat_features):\n",
    "        super().__init__()\n",
    "        \n",
    "        self.sequential = nn.Sequential(\n",
    "            nn.Linear(n_cat_features, 128),\n",
    "            nn.BatchNorm1d(128),\n",
    "            nn.ReLU(),\n",
    "            nn.Linear(128, 64),\n",
    "            nn.BatchNorm1d(64),\n",
    "            nn.ReLU(),\n",
    "            nn.Linear(64, 32)\n",
    "        )\n",
    "        \n",
    "    def forward(self, batch):\n",
    "        out = self.sequential(batch)        \n",
    "        return out\n",
    "\n",
    "\n",
    "class SalaryPredictor(nn.Module):\n",
    "    def __init__(self, embedding=None, n_tokens=len(tokens), n_cat_features=len(categorical_vectorizer.vocabulary_)):\n",
    "        super().__init__()\n",
    "        self.title_enc = TitleEncoder(n_tokens, embedding)\n",
    "        self.descr_enc = FullDescriptionEncoder(n_tokens, embedding)\n",
    "        self.categorial_enc = CategorialEncoder(n_cat_features)\n",
    "\n",
    "        self.title_enc.emb == self.descr_enc.emb\n",
    "            \n",
    "        self.sequential =  nn.Sequential(\n",
    "            nn.Linear(96, 32),\n",
    "            nn.BatchNorm1d(32),\n",
    "            nn.ReLU(),\n",
    "            nn.Linear(32, 1),\n",
    "        )\n",
    "    \n",
    "    def forward(self, batch):\n",
    "        title_out = self.title_enc(batch['Title'])\n",
    "        descr_out = self.descr_enc(batch['FullDescription'])\n",
    "        cat_out = self.categorial_enc(batch['Categorical'])\n",
    "        \n",
    "        concat = torch.cat((title_out, descr_out, cat_out), 1)\n",
    "        out = self.sequential(concat)\n",
    "        \n",
    "        return torch.transpose(out, 0, 1)[0]"
   ]
  },
  {
   "cell_type": "markdown",
   "metadata": {},
   "source": [
    "# Вторая модель"
   ]
  },
  {
   "cell_type": "code",
   "execution_count": 23,
   "metadata": {},
   "outputs": [],
   "source": [
    "class TitleEncoder(nn.Module):\n",
    "    def __init__(self, n_tokens, embedding=None):\n",
    "        super().__init__()\n",
    "\n",
    "        if embedding == None:\n",
    "            self.emb = nn.Embedding(n_tokens, 100)\n",
    "        else:     \n",
    "            filter = 100\n",
    "            self.emb = nn.Embedding.from_pretrained(embedding)\n",
    "            self.emb.weight.requires_grad=True\n",
    "\n",
    "        self.sequential_1 =  nn.Sequential(\n",
    "            nn.Conv1d(filter, 64, kernel_size=3),\n",
    "            nn.ReLU(),\n",
    "            nn.Conv1d(64, 32, kernel_size=3)\n",
    "        )\n",
    "\n",
    "        self.sequential_2 =  nn.Sequential(\n",
    "            nn.Conv1d(filter, 64, kernel_size=3),\n",
    "            nn.ReLU(),\n",
    "            nn.Conv1d(64, 32, kernel_size=3)\n",
    "        )\n",
    "\n",
    "    def forward(self, idx):\n",
    "        embs = self.emb(idx).transpose(2, 1)\n",
    "        \n",
    "        out_1 = self.sequential_1(embs)\n",
    "        out_2 = self.sequential_2(embs)\n",
    "\n",
    "        concat = torch.cat((out_1, out_2), 1)\n",
    "        max_pool = torch.max(concat, dim=-1).values\n",
    "        \n",
    "        return max_pool\n",
    "\n",
    "\n",
    "class FullDescriptionEncoder(nn.Module):\n",
    "    def __init__(self, n_tokens, embedding=None):\n",
    "        super().__init__()\n",
    "        if embedding != None:\n",
    "            self.emb = nn.Embedding.from_pretrained(embedding)\n",
    "            self.emb.weight.requires_grad=True\n",
    "        else:\n",
    "            self.emb = nn.Embedding(n_tokens, 100)\n",
    "            \n",
    "        self.sequential =  nn.Sequential(\n",
    "            nn.Conv1d(filter, 64, kernel_size=3, stride=2),\n",
    "            nn.MaxPool1d(kernel_size=3, stride=2),\n",
    "            nn.ReLU(),\n",
    "            nn.Conv1d(64, 32, kernel_size=3)\n",
    "        )\n",
    "        \n",
    "    def forward(self, idx):\n",
    "        embs = self.emb(idx).transpose(2, 1)\n",
    "        \n",
    "        sequential_out = self.sequential(embs)        \n",
    "        max_pool = torch.max(sequential_out, dim=-1).values\n",
    "        \n",
    "        return max_pool\n",
    "\n",
    "class CategorialEncoder(nn.Module):\n",
    "    def __init__(self, n_cat_features):\n",
    "        super().__init__()\n",
    "        \n",
    "        self.sequential = nn.Sequential(\n",
    "            nn.Linear(n_cat_features, 128),\n",
    "            nn.BatchNorm1d(128),\n",
    "            nn.ReLU(),\n",
    "            nn.Linear(128, 64),\n",
    "            nn.BatchNorm1d(64),\n",
    "            nn.ReLU(),\n",
    "            nn.Linear(64, 32)\n",
    "        )\n",
    "        \n",
    "    def forward(self, batch):\n",
    "        out = self.sequential(batch)        \n",
    "        return out\n",
    "\n",
    "\n",
    "class SalaryPredictor(nn.Module):\n",
    "    def __init__(self, embedding=None, n_tokens=len(tokens), n_cat_features=len(categorical_vectorizer.vocabulary_)):\n",
    "        super().__init__()\n",
    "        self.title_enc = TitleEncoder(n_tokens, embedding)\n",
    "        self.descr_enc = FullDescriptionEncoder(n_tokens, embedding)\n",
    "        self.categorial_enc = CategorialEncoder(n_cat_features)\n",
    "\n",
    "        self.title_enc.emb == self.descr_enc.emb\n",
    "            \n",
    "        self.sequential =  nn.Sequential(\n",
    "            nn.Linear(128, 32),\n",
    "            nn.BatchNorm1d(32),\n",
    "            nn.ReLU(),\n",
    "            nn.Linear(32, 1),\n",
    "        )\n",
    "    \n",
    "    def forward(self, batch):\n",
    "        title_out = self.title_enc(batch['Title'])\n",
    "        descr_out = self.descr_enc(batch['FullDescription'])\n",
    "        cat_out = self.categorial_enc(batch['Categorical'])\n",
    "        \n",
    "        concat = torch.cat((title_out, descr_out, cat_out), 1)\n",
    "        out = self.sequential(concat)\n",
    "        \n",
    "        return torch.transpose(out, 0, 1)[0]"
   ]
  },
  {
   "cell_type": "markdown",
   "metadata": {},
   "source": [
    "# Третья модель"
   ]
  },
  {
   "cell_type": "code",
   "execution_count": 24,
   "metadata": {},
   "outputs": [],
   "source": [
    "class TitleEncoder(nn.Module):\n",
    "    def __init__(self, n_tokens, embedding=None):\n",
    "        super().__init__()\n",
    "        \n",
    "        if embedding == None:\n",
    "            filter = 200\n",
    "            self.emb = nn.Embedding(n_tokens, 200)\n",
    "        else:     \n",
    "            filter = 100\n",
    "            self.emb = nn.Embedding.from_pretrained(embedding)\n",
    "            self.emb.weight.requires_grad=True\n",
    "        \n",
    "        self.sequential_1 =  nn.Sequential(\n",
    "            nn.Conv1d(filter, 64, kernel_size=3),\n",
    "            nn.ReLU(),\n",
    "            nn.Conv1d(64, 32, kernel_size=3)\n",
    "        )\n",
    "\n",
    "        self.sequential_2 =  nn.Sequential(\n",
    "            nn.Conv1d(filter, 64, kernel_size=3),\n",
    "            nn.ReLU(),\n",
    "            nn.Conv1d(64, 32, kernel_size=3)\n",
    "        )\n",
    "\n",
    "    def forward(self, idx):\n",
    "        embs = self.emb(idx).transpose(2, 1)\n",
    "        \n",
    "        out_1 = self.sequential_1(embs)\n",
    "        out_2 = self.sequential_2(embs)\n",
    "\n",
    "        concat = torch.cat((out_1, out_2), 1)\n",
    "        max_pool = torch.max(concat, dim=-1).values\n",
    "        \n",
    "        return max_pool\n",
    "        \n",
    "\n",
    "class CategorialEncoder(nn.Module):\n",
    "    def __init__(self, n_cat_features):\n",
    "        super().__init__()\n",
    "        \n",
    "        self.sequential = nn.Sequential(\n",
    "            nn.Linear(n_cat_features, 128),\n",
    "            nn.BatchNorm1d(128),\n",
    "            nn.ReLU(),\n",
    "            nn.Linear(128, 64),\n",
    "            nn.BatchNorm1d(64),\n",
    "            nn.ReLU(),\n",
    "            nn.Linear(64, 32)\n",
    "        )\n",
    "        \n",
    "    def forward(self, batch):\n",
    "        out = self.sequential(batch)        \n",
    "        return out\n",
    "\n",
    "\n",
    "class SalaryPredictor(nn.Module):\n",
    "    def __init__(self, embedding=None, n_tokens=len(tokens), n_cat_features=len(categorical_vectorizer.vocabulary_)):\n",
    "        super().__init__()\n",
    "        self.title_enc = TitleEncoder(n_tokens, embedding)\n",
    "        self.descr_enc = TitleEncoder(n_tokens, embedding)\n",
    "        self.categorial_enc = CategorialEncoder(n_cat_features)\n",
    "\n",
    "        self.title_enc.emb == self.descr_enc.emb\n",
    "            \n",
    "        self.sequential =  nn.Sequential(\n",
    "            nn.Linear(160, 32),\n",
    "            nn.BatchNorm1d(32),\n",
    "            nn.ReLU(),\n",
    "            nn.Linear(32, 1),\n",
    "        )\n",
    "    \n",
    "    def forward(self, batch):\n",
    "        title_out = self.title_enc(batch['Title'])\n",
    "        descr_out = self.descr_enc(batch['FullDescription'])\n",
    "        cat_out = self.categorial_enc(batch['Categorical'])\n",
    "        \n",
    "        concat = torch.cat((title_out, descr_out, cat_out), 1)\n",
    "        out = self.sequential(concat)\n",
    "        \n",
    "        return torch.transpose(out, 0, 1)[0]"
   ]
  },
  {
   "cell_type": "markdown",
   "metadata": {},
   "source": [
    "# Четвёртая модель"
   ]
  },
  {
   "cell_type": "code",
   "execution_count": null,
   "metadata": {},
   "outputs": [],
   "source": [
    "class TitleEncoder(nn.Module):\n",
    "    def __init__(self, n_tokens, embedding=None):\n",
    "        super().__init__()\n",
    "        \n",
    "        if embedding == None:\n",
    "            filter = 200\n",
    "            self.emb = nn.Embedding(n_tokens, 200)\n",
    "        else:     \n",
    "            filter = 100\n",
    "            self.emb = nn.Embedding.from_pretrained(embedding)\n",
    "            self.emb.weight.requires_grad=True\n",
    "       \n",
    "        self.sequential_1 =  nn.Sequential(\n",
    "            nn.Conv1d(filter, 64, kernel_size=3),\n",
    "            nn.ReLU(),\n",
    "            nn.Conv1d(64, 32, kernel_size=3)\n",
    "        )\n",
    "\n",
    "    def forward(self, idx):\n",
    "        embs = self.emb(idx).transpose(2, 1)\n",
    "        \n",
    "        out_1 = self.sequential_1(embs)\n",
    "        max_pool = torch.max(out_1, dim=-1).values\n",
    "        \n",
    "        return max_pool\n",
    "\n",
    "\n",
    "class CategorialEncoder(nn.Module):\n",
    "    def __init__(self, n_cat_features):\n",
    "        super().__init__()\n",
    "        \n",
    "        self.sequential = nn.Sequential(\n",
    "            nn.Linear(n_cat_features, 128),\n",
    "            nn.ReLU(),\n",
    "            nn.Linear(128, 64),\n",
    "            nn.ReLU(),\n",
    "            nn.Linear(64, 32)\n",
    "        )\n",
    "        \n",
    "    def forward(self, batch):\n",
    "        out = self.sequential(batch)        \n",
    "        return out\n",
    "\n",
    "\n",
    "class SalaryPredictor(nn.Module):\n",
    "    def __init__(self, embedding=None, n_tokens=len(tokens), n_cat_features=len(categorical_vectorizer.vocabulary_)):\n",
    "        super().__init__()\n",
    "        self.title_enc = TitleEncoder(n_tokens, embedding)\n",
    "        self.descr_enc = TitleEncoder(n_tokens, embedding)\n",
    "        self.categorial_enc = CategorialEncoder(n_cat_features)\n",
    "\n",
    "        self.title_enc.emb == self.descr_enc.emb\n",
    "            \n",
    "        self.sequential =  nn.Sequential(\n",
    "            nn.Linear(96, 32),\n",
    "            nn.ReLU(),\n",
    "            nn.Linear(32, 1),\n",
    "        )\n",
    "    \n",
    "    def forward(self, batch):\n",
    "        title_out = self.title_enc(batch['Title'])\n",
    "        descr_out = self.descr_enc(batch['FullDescription'])\n",
    "        cat_out = self.categorial_enc(batch['Categorical'])\n",
    "        \n",
    "        concat = torch.cat((title_out, descr_out, cat_out), 1)\n",
    "        out = self.sequential(concat)\n",
    "        \n",
    "        return torch.transpose(out, 0, 1)[0]"
   ]
  },
  {
   "cell_type": "markdown",
   "metadata": {},
   "source": [
    "# Пятая модель"
   ]
  },
  {
   "cell_type": "code",
   "execution_count": null,
   "metadata": {},
   "outputs": [],
   "source": [
    "class TitleEncoder(nn.Module):\n",
    "    def __init__(self, input_size, hidden_size, num_layers, n_tokens, embedding=None):\n",
    "        super().__init__()\n",
    "        \n",
    "        if embedding == None:\n",
    "            filter = 200\n",
    "            self.emb = nn.Embedding(n_tokens, 200)\n",
    "        else:     \n",
    "            filter = 100\n",
    "            self.emb = nn.Embedding.from_pretrained(embedding)\n",
    "            self.emb.weight.requires_grad=True\n",
    "\n",
    "        self.lstm = nn.LSTM(input_size=input_size, hidden_size=hidden_size, num_layers=num_layers, bidirectional=True)\n",
    "    \n",
    "    def forward(self, idx):\n",
    "        embs = self.emb(idx)\n",
    "        out_lstm, (h_n, c_n) = self.lstm(embs)\n",
    "        \n",
    "        max_pool = torch.max(out_lstm, dim=1).values\n",
    "        return max_pool\n",
    "\n",
    "\n",
    "class CategorialEncoder(nn.Module):\n",
    "    def __init__(self, n_cat_features):\n",
    "        super().__init__()\n",
    "        \n",
    "        self.sequential = nn.Sequential(\n",
    "            nn.Linear(n_cat_features, 128),\n",
    "            nn.BatchNorm1d(128),\n",
    "            nn.ReLU(),\n",
    "            nn.Linear(128, 64),\n",
    "            nn.BatchNorm1d(64),\n",
    "            nn.ReLU(),\n",
    "            nn.Linear(64, 32)\n",
    "        )\n",
    "        \n",
    "    def forward(self, batch):\n",
    "        out = self.sequential(batch)        \n",
    "        return out\n",
    "\n",
    "\n",
    "class SalaryPredictor(nn.Module):\n",
    "    def __init__(self, input_size, hidden_size, num_layers, embedding=None, n_tokens=len(tokens), n_cat_features=len(categorical_vectorizer.vocabulary_)):\n",
    "        super().__init__()\n",
    "        self.title_enc = TitleEncoder(input_size, hidden_size, num_layers, n_tokens, embedding)\n",
    "        self.descr_enc = TitleEncoder(input_size, hidden_size, num_layers, n_tokens, embedding)\n",
    "        self.categorial_enc = CategorialEncoder(n_cat_features)\n",
    "\n",
    "        self.title_enc.emb == self.descr_enc.emb\n",
    "            \n",
    "        self.sequential =  nn.Sequential(\n",
    "            nn.Linear(160, 32),\n",
    "            nn.BatchNorm1d(32),\n",
    "            nn.ReLU(),\n",
    "            nn.Linear(32, 1),\n",
    "        )\n",
    "    \n",
    "    def forward(self, batch):\n",
    "        title_out = self.title_enc(batch['Title'])\n",
    "        descr_out = self.descr_enc(batch['FullDescription'])\n",
    "        cat_out = self.categorial_enc(batch['Categorical'])\n",
    "        \n",
    "        concat = torch.cat((title_out, descr_out, cat_out), 1)\n",
    "        out = self.sequential(concat)\n",
    "        \n",
    "        return torch.transpose(out, 0, 1)[0]"
   ]
  },
  {
   "cell_type": "markdown",
   "metadata": {},
   "source": [
    "# Шестая модель"
   ]
  },
  {
   "cell_type": "code",
   "execution_count": null,
   "metadata": {},
   "outputs": [],
   "source": [
    "class TitleEncoder(nn.Module):\n",
    "    def __init__(self, input_size, hidden_size, num_layers, n_tokens, embedding=None):\n",
    "        super().__init__()\n",
    "        \n",
    "        if embedding == None:\n",
    "            filter = 200\n",
    "            self.emb = nn.Embedding(n_tokens, 200)\n",
    "        else:     \n",
    "            filter = 100\n",
    "            self.emb = nn.Embedding.from_pretrained(embedding)\n",
    "            self.emb.weight.requires_grad=True\n",
    "\n",
    "        self.lstm = nn.LSTM(input_size=input_size, hidden_size=hidden_size, num_layers=num_layers, bidirectional=True)\n",
    "    \n",
    "    def forward(self, idx):\n",
    "        embs = self.emb(idx)\n",
    "        out_lstm, (h_n, c_n) = self.lstm(embs)\n",
    "        \n",
    "        average_pool = torch.mean(out_lstm, dim=1)\n",
    "        return average_pool\n",
    "\n",
    "\n",
    "class CategorialEncoder(nn.Module):\n",
    "    def __init__(self, n_cat_features):\n",
    "        super().__init__()\n",
    "        \n",
    "        self.sequential = nn.Sequential(\n",
    "            nn.Linear(n_cat_features, 128),\n",
    "            nn.BatchNorm1d(128),\n",
    "            nn.ReLU(),\n",
    "            nn.Linear(128, 64),\n",
    "            nn.BatchNorm1d(64),\n",
    "            nn.ReLU(),\n",
    "            nn.Linear(64, 32)\n",
    "        )\n",
    "        \n",
    "    def forward(self, batch):\n",
    "        out = self.sequential(batch)        \n",
    "        return out\n",
    "\n",
    "\n",
    "class SalaryPredictor(nn.Module):\n",
    "    def __init__(self, input_size, hidden_size, num_layers, embedding=None, n_tokens=len(tokens), n_cat_features=len(categorical_vectorizer.vocabulary_)):\n",
    "        super().__init__()\n",
    "        self.title_enc = TitleEncoder(input_size, hidden_size, num_layers, n_tokens, embedding)\n",
    "        self.descr_enc = TitleEncoder(input_size, hidden_size, num_layers, n_tokens, embedding)\n",
    "        self.categorial_enc = CategorialEncoder(n_cat_features)\n",
    "\n",
    "        self.title_enc.emb == self.descr_enc.emb\n",
    "            \n",
    "        self.sequential =  nn.Sequential(\n",
    "            nn.Linear(160, 32),\n",
    "            nn.BatchNorm1d(32),\n",
    "            nn.ReLU(),\n",
    "            nn.Linear(32, 1),\n",
    "        )\n",
    "    \n",
    "    def forward(self, batch):\n",
    "        title_out = self.title_enc(batch['Title'])\n",
    "        descr_out = self.descr_enc(batch['FullDescription'])\n",
    "        cat_out = self.categorial_enc(batch['Categorical'])\n",
    "        \n",
    "        concat = torch.cat((title_out, descr_out, cat_out), 1)\n",
    "        out = self.sequential(concat)\n",
    "        \n",
    "        return torch.transpose(out, 0, 1)[0]"
   ]
  }
 ],
 "metadata": {
  "kernelspec": {
   "display_name": "Python 3 (ipykernel)",
   "language": "python",
   "name": "python3"
  },
  "language_info": {
   "codemirror_mode": {
    "name": "ipython",
    "version": 3
   },
   "file_extension": ".py",
   "mimetype": "text/x-python",
   "name": "python",
   "nbconvert_exporter": "python",
   "pygments_lexer": "ipython3",
   "version": "3.11.5"
  }
 },
 "nbformat": 4,
 "nbformat_minor": 4
}
